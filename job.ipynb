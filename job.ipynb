{
  "nbformat": 4,
  "nbformat_minor": 0,
  "metadata": {
    "colab": {
      "name": "job",
      "provenance": [],
      "collapsed_sections": [],
      "include_colab_link": true
    },
    "kernelspec": {
      "name": "python3",
      "display_name": "Python 3"
    },
    "accelerator": "GPU"
  },
  "cells": [
    {
      "cell_type": "markdown",
      "metadata": {
        "id": "view-in-github",
        "colab_type": "text"
      },
      "source": [
        "<a href=\"https://colab.research.google.com/github/sushilmanda/Google-collab/blob/master/job.ipynb\" target=\"_parent\"><img src=\"https://colab.research.google.com/assets/colab-badge.svg\" alt=\"Open In Colab\"/></a>"
      ]
    },
    {
      "cell_type": "markdown",
      "metadata": {
        "id": "QOKh9cEm9o06",
        "colab_type": "text"
      },
      "source": [
        "# **2) Write a function in python that take dataframe as input and drop columns having Pearson correlation more than 0.85**\n"
      ]
    },
    {
      "cell_type": "markdown",
      "metadata": {
        "id": "WuXfZ3KZuhCo",
        "colab_type": "text"
      },
      "source": [
        "### Assumptions\n",
        "* We do not want to loose original feature (So PCA can not be used) "
      ]
    },
    {
      "cell_type": "markdown",
      "metadata": {
        "id": "jYBPTNOcur3_",
        "colab_type": "text"
      },
      "source": [
        "#### I will use VIF to remove the features\n",
        "\n",
        " Objective: Remove features havingcorrelation more than 0.85 (drop least amount  of variable as possible.)"
      ]
    },
    {
      "cell_type": "markdown",
      "metadata": {
        "id": "zhdfLAHCvDij",
        "colab_type": "text"
      },
      "source": [
        "VIF calculation for Pearson correlation > 0.85\n",
        "\n",
        ">$VIF=1/(1-R^2)$\n",
        "\n",
        "here R = Pearson correlation(should be greater than 0.85 as per problem)\n",
        "          \n",
        ">$VIF < 1/(1-0.85^2)$\n",
        "\n",
        ">$VIF < 3.6$"
      ]
    },
    {
      "cell_type": "code",
      "metadata": {
        "id": "K9qfilE5w3I6",
        "colab_type": "code",
        "colab": {
          "base_uri": "https://localhost:8080/",
          "height": 71
        },
        "outputId": "d4cf811d-f829-4903-a35e-6da4ea8d808a"
      },
      "source": [
        "# Importing required libraries\n",
        "import pandas as pd, numpy as np \n",
        "from statsmodels.stats.outliers_influence import variance_inflation_factor"
      ],
      "execution_count": 31,
      "outputs": [
        {
          "output_type": "stream",
          "text": [
            "/usr/local/lib/python3.6/dist-packages/statsmodels/tools/_testing.py:19: FutureWarning: pandas.util.testing is deprecated. Use the functions in the public API at pandas.testing instead.\n",
            "  import pandas.util.testing as tm\n"
          ],
          "name": "stderr"
        }
      ]
    },
    {
      "cell_type": "markdown",
      "metadata": {
        "id": "34npRpiTJLCB",
        "colab_type": "text"
      },
      "source": [
        "## **Main Function**"
      ]
    },
    {
      "cell_type": "code",
      "metadata": {
        "id": "_geEgva5xFXM",
        "colab_type": "code",
        "colab": {}
      },
      "source": [
        "def Feature_selection(x): # Function\n",
        "    i = 0\n",
        "    while i < len(x.columns):\n",
        "      vif = pd.DataFrame()\n",
        "      vif['Features'] = x.columns\n",
        "      vif['VIF'] = [variance_inflation_factor(x.values, i) for i in range(x.shape[1])]\n",
        "      vif = vif.sort_values(by = \"VIF\", ascending = False)\n",
        "      if vif.iloc[0,1] > 3.6:\n",
        "        x = x.drop(vif.iloc[0,0], axis = 1)\n",
        "      i = i+1\n",
        "    return x"
      ],
      "execution_count": 160,
      "outputs": []
    },
    {
      "cell_type": "markdown",
      "metadata": {
        "id": "1DKQpdJPxawj",
        "colab_type": "text"
      },
      "source": [
        "**Now let's test our function**"
      ]
    },
    {
      "cell_type": "code",
      "metadata": {
        "id": "dSDh_FoTxVh7",
        "colab_type": "code",
        "colab": {}
      },
      "source": [
        "# dataset for testig\n",
        "data = {'Gender': [0,1,1,0,0],\n",
        "        'Age': [27,26,26,27,26],\n",
        "        'Ear of service': [1.7,1.1,1.2,1.6,1.5],\n",
        "        'Graduate': [0,1,0,1,1],\n",
        "        'Salery': [39343,43205,47731,46525,40891]\n",
        "        }\n",
        "\n",
        "df = pd.DataFrame(data,columns=['Gender','Age','Ear of service','Graduate','Salery'])"
      ],
      "execution_count": 165,
      "outputs": []
    },
    {
      "cell_type": "code",
      "metadata": {
        "id": "pypJNjR7xy1h",
        "colab_type": "code",
        "colab": {
          "base_uri": "https://localhost:8080/",
          "height": 204
        },
        "outputId": "166be75b-d258-445c-c0c6-fe6275763ab3"
      },
      "source": [
        "# Creating correlation metrix\n",
        "df.corr()"
      ],
      "execution_count": 17,
      "outputs": [
        {
          "output_type": "execute_result",
          "data": {
            "text/html": [
              "<div>\n",
              "<style scoped>\n",
              "    .dataframe tbody tr th:only-of-type {\n",
              "        vertical-align: middle;\n",
              "    }\n",
              "\n",
              "    .dataframe tbody tr th {\n",
              "        vertical-align: top;\n",
              "    }\n",
              "\n",
              "    .dataframe thead th {\n",
              "        text-align: right;\n",
              "    }\n",
              "</style>\n",
              "<table border=\"1\" class=\"dataframe\">\n",
              "  <thead>\n",
              "    <tr style=\"text-align: right;\">\n",
              "      <th></th>\n",
              "      <th>Gender</th>\n",
              "      <th>Age</th>\n",
              "      <th>Ear of service</th>\n",
              "      <th>Graduate</th>\n",
              "      <th>Salery</th>\n",
              "    </tr>\n",
              "  </thead>\n",
              "  <tbody>\n",
              "    <tr>\n",
              "      <th>Gender</th>\n",
              "      <td>1.000000</td>\n",
              "      <td>-0.666667</td>\n",
              "      <td>-0.952217</td>\n",
              "      <td>-0.166667</td>\n",
              "      <td>0.492103</td>\n",
              "    </tr>\n",
              "    <tr>\n",
              "      <th>Age</th>\n",
              "      <td>-0.666667</td>\n",
              "      <td>1.000000</td>\n",
              "      <td>0.811147</td>\n",
              "      <td>-0.166667</td>\n",
              "      <td>-0.154340</td>\n",
              "    </tr>\n",
              "    <tr>\n",
              "      <th>Ear of service</th>\n",
              "      <td>-0.952217</td>\n",
              "      <td>0.811147</td>\n",
              "      <td>1.000000</td>\n",
              "      <td>-0.105802</td>\n",
              "      <td>-0.449290</td>\n",
              "    </tr>\n",
              "    <tr>\n",
              "      <th>Graduate</th>\n",
              "      <td>-0.166667</td>\n",
              "      <td>-0.166667</td>\n",
              "      <td>-0.105802</td>\n",
              "      <td>1.000000</td>\n",
              "      <td>0.000510</td>\n",
              "    </tr>\n",
              "    <tr>\n",
              "      <th>Salery</th>\n",
              "      <td>0.492103</td>\n",
              "      <td>-0.154340</td>\n",
              "      <td>-0.449290</td>\n",
              "      <td>0.000510</td>\n",
              "      <td>1.000000</td>\n",
              "    </tr>\n",
              "  </tbody>\n",
              "</table>\n",
              "</div>"
            ],
            "text/plain": [
              "                  Gender       Age  Ear of service  Graduate    Salery\n",
              "Gender          1.000000 -0.666667       -0.952217 -0.166667  0.492103\n",
              "Age            -0.666667  1.000000        0.811147 -0.166667 -0.154340\n",
              "Ear of service -0.952217  0.811147        1.000000 -0.105802 -0.449290\n",
              "Graduate       -0.166667 -0.166667       -0.105802  1.000000  0.000510\n",
              "Salery          0.492103 -0.154340       -0.449290  0.000510  1.000000"
            ]
          },
          "metadata": {
            "tags": []
          },
          "execution_count": 17
        }
      ]
    },
    {
      "cell_type": "markdown",
      "metadata": {
        "id": "6q9rFfffyOkG",
        "colab_type": "text"
      },
      "source": [
        "From table we can observe some of the attributes have more than 0.85 Pearson correlation"
      ]
    },
    {
      "cell_type": "code",
      "metadata": {
        "id": "-xgpkQC3yvGb",
        "colab_type": "code",
        "colab": {
          "base_uri": "https://localhost:8080/",
          "height": 204
        },
        "outputId": "44488274-673b-4e1d-d4c9-700f8e8759f7"
      },
      "source": [
        "# Lets run our function on df dataset\n",
        "d = Feature_selection(df)\n",
        "d.head()"
      ],
      "execution_count": 166,
      "outputs": [
        {
          "output_type": "execute_result",
          "data": {
            "text/html": [
              "<div>\n",
              "<style scoped>\n",
              "    .dataframe tbody tr th:only-of-type {\n",
              "        vertical-align: middle;\n",
              "    }\n",
              "\n",
              "    .dataframe tbody tr th {\n",
              "        vertical-align: top;\n",
              "    }\n",
              "\n",
              "    .dataframe thead th {\n",
              "        text-align: right;\n",
              "    }\n",
              "</style>\n",
              "<table border=\"1\" class=\"dataframe\">\n",
              "  <thead>\n",
              "    <tr style=\"text-align: right;\">\n",
              "      <th></th>\n",
              "      <th>Gender</th>\n",
              "      <th>Ear of service</th>\n",
              "      <th>Graduate</th>\n",
              "    </tr>\n",
              "  </thead>\n",
              "  <tbody>\n",
              "    <tr>\n",
              "      <th>0</th>\n",
              "      <td>0</td>\n",
              "      <td>1.7</td>\n",
              "      <td>0</td>\n",
              "    </tr>\n",
              "    <tr>\n",
              "      <th>1</th>\n",
              "      <td>1</td>\n",
              "      <td>1.1</td>\n",
              "      <td>1</td>\n",
              "    </tr>\n",
              "    <tr>\n",
              "      <th>2</th>\n",
              "      <td>1</td>\n",
              "      <td>1.2</td>\n",
              "      <td>0</td>\n",
              "    </tr>\n",
              "    <tr>\n",
              "      <th>3</th>\n",
              "      <td>0</td>\n",
              "      <td>1.6</td>\n",
              "      <td>1</td>\n",
              "    </tr>\n",
              "    <tr>\n",
              "      <th>4</th>\n",
              "      <td>0</td>\n",
              "      <td>1.5</td>\n",
              "      <td>1</td>\n",
              "    </tr>\n",
              "  </tbody>\n",
              "</table>\n",
              "</div>"
            ],
            "text/plain": [
              "   Gender  Ear of service  Graduate\n",
              "0       0             1.7         0\n",
              "1       1             1.1         1\n",
              "2       1             1.2         0\n",
              "3       0             1.6         1\n",
              "4       0             1.5         1"
            ]
          },
          "metadata": {
            "tags": []
          },
          "execution_count": 166
        }
      ]
    },
    {
      "cell_type": "code",
      "metadata": {
        "id": "ZRv8CC3vHAos",
        "colab_type": "code",
        "colab": {
          "base_uri": "https://localhost:8080/",
          "height": 142
        },
        "outputId": "724d2e11-607b-47c8-bb32-d878d6e95b6d"
      },
      "source": [
        "d.corr()"
      ],
      "execution_count": 167,
      "outputs": [
        {
          "output_type": "execute_result",
          "data": {
            "text/html": [
              "<div>\n",
              "<style scoped>\n",
              "    .dataframe tbody tr th:only-of-type {\n",
              "        vertical-align: middle;\n",
              "    }\n",
              "\n",
              "    .dataframe tbody tr th {\n",
              "        vertical-align: top;\n",
              "    }\n",
              "\n",
              "    .dataframe thead th {\n",
              "        text-align: right;\n",
              "    }\n",
              "</style>\n",
              "<table border=\"1\" class=\"dataframe\">\n",
              "  <thead>\n",
              "    <tr style=\"text-align: right;\">\n",
              "      <th></th>\n",
              "      <th>Gender</th>\n",
              "      <th>Ear of service</th>\n",
              "      <th>Graduate</th>\n",
              "    </tr>\n",
              "  </thead>\n",
              "  <tbody>\n",
              "    <tr>\n",
              "      <th>Gender</th>\n",
              "      <td>1.000000</td>\n",
              "      <td>-0.952217</td>\n",
              "      <td>-0.166667</td>\n",
              "    </tr>\n",
              "    <tr>\n",
              "      <th>Ear of service</th>\n",
              "      <td>-0.952217</td>\n",
              "      <td>1.000000</td>\n",
              "      <td>-0.105802</td>\n",
              "    </tr>\n",
              "    <tr>\n",
              "      <th>Graduate</th>\n",
              "      <td>-0.166667</td>\n",
              "      <td>-0.105802</td>\n",
              "      <td>1.000000</td>\n",
              "    </tr>\n",
              "  </tbody>\n",
              "</table>\n",
              "</div>"
            ],
            "text/plain": [
              "                  Gender  Ear of service  Graduate\n",
              "Gender          1.000000       -0.952217 -0.166667\n",
              "Ear of service -0.952217        1.000000 -0.105802\n",
              "Graduate       -0.166667       -0.105802  1.000000"
            ]
          },
          "metadata": {
            "tags": []
          },
          "execution_count": 167
        }
      ]
    },
    {
      "cell_type": "markdown",
      "metadata": {
        "id": "i7oslIcN6tgV",
        "colab_type": "text"
      },
      "source": [
        " Gender and Ear of service have correlation of 0.95 but still not droped "
      ]
    },
    {
      "cell_type": "markdown",
      "metadata": {
        "id": "A1zO3VMc7ARf",
        "colab_type": "text"
      },
      "source": [
        "Let's check VIF, by this we know why they are not dropped"
      ]
    },
    {
      "cell_type": "code",
      "metadata": {
        "id": "vgKTuWgT0mdS",
        "colab_type": "code",
        "colab": {
          "base_uri": "https://localhost:8080/",
          "height": 255
        },
        "outputId": "5eeb7cc3-ccde-4ceb-96d7-7f23f159a41f"
      },
      "source": [
        "vif = pd.DataFrame()\n",
        "vif['Features'] = df.columns\n",
        "vif['VIF'] = [variance_inflation_factor(df.values, i) for i in range(df.shape[1])]\n",
        "vif['VIF'] = round(vif['VIF'], 2)\n",
        "vif = vif.sort_values(by = \"VIF\", ascending = False)\n",
        "vif1 = pd.DataFrame()\n",
        "vif1['Features'] = d.columns\n",
        "vif1['VIF'] = [variance_inflation_factor(d.values, i) for i in range(d.shape[1])]\n",
        "vif1['VIF'] = round(vif1['VIF'], 2)\n",
        "vif1 = vif1.sort_values(by = \"VIF\", ascending = False)\n",
        "print(\"VIF for original Data \\n\", vif)\n",
        "print('\\n')\n",
        "print(\"VIF for Transformed Data \\n\", vif1)"
      ],
      "execution_count": 173,
      "outputs": [
        {
          "output_type": "stream",
          "text": [
            "VIF for original Data \n",
            "          Features       VIF\n",
            "1             Age  17374.58\n",
            "2  Ear of service  13358.91\n",
            "0          Gender    480.07\n",
            "3        Graduate     50.99\n",
            "4          Salery      1.49\n",
            "\n",
            "\n",
            "VIF for Transformed Data \n",
            "          Features   VIF\n",
            "1  Ear of service  2.60\n",
            "2        Graduate  2.32\n",
            "0          Gender  1.35\n"
          ],
          "name": "stdout"
        }
      ]
    },
    {
      "cell_type": "markdown",
      "metadata": {
        "id": "3bDrYtaj7XIT",
        "colab_type": "text"
      },
      "source": [
        "From this table we know that 'Ear of service' have 2.6 VIF. But what does this mean, lets see"
      ]
    },
    {
      "cell_type": "markdown",
      "metadata": {
        "id": "WykchZvC7ocD",
        "colab_type": "text"
      },
      "source": [
        "> $VIF = 1/(1-R^2)$\n",
        "\n",
        "by this,\n",
        "\n",
        "> $ 2.6 = 1/(1-R^2)$\n",
        "\n",
        "> $ R = 0.784$\n",
        "\n",
        "From here it can be seen the even if 'Gender' and 'Ear of service' have more than 95% correlation but only 78.4% of 'Ear of service' column can be justified by other columns so that why this column was not deleted."
      ]
    },
    {
      "cell_type": "markdown",
      "metadata": {
        "id": "2m8LIPP99UNr",
        "colab_type": "text"
      },
      "source": [
        "# **1) Write a function in python that inputs a dataframe and identify which columns have date in them.**"
      ]
    },
    {
      "cell_type": "markdown",
      "metadata": {
        "id": "CDQfPj2lAz9C",
        "colab_type": "text"
      },
      "source": [
        "### Assumption\n",
        "\n",
        "* Input Dataframe have all the features dtype as object(string) or integers."
      ]
    },
    {
      "cell_type": "markdown",
      "metadata": {
        "id": "06f5bJOy-Eo_",
        "colab_type": "text"
      },
      "source": [
        "## **Main Function**"
      ]
    },
    {
      "cell_type": "code",
      "metadata": {
        "id": "cAFeqVaK-Jc2",
        "colab_type": "code",
        "colab": {}
      },
      "source": [
        "def Date_Filter(x):\n",
        "  import pandas as pd # importing librar needed for function\n",
        "  new = pd.DataFrame() \n",
        "  for col in x.columns: # This loop will give us a new DataFrame named \"new\" having only dateds column of input DataFrame\n",
        "    if x[col].dtype == 'object':\n",
        "        try:\n",
        "            new[col] = pd.to_datetime(x[col])\n",
        "        except ValueError:\n",
        "            pass\n",
        "  co = new.columns\n",
        "  for i in co: # This loop will make features containing original date columns and new columns which are difference between these columns taking 2 at a time.\n",
        "    for k in co:\n",
        "      if i<k:\n",
        "        new[i+k] = abs(new[i].sub(new[k], axis = 0)) # Taking absolute value of subraction because subraction might give negative values also\n",
        "  return new"
      ],
      "execution_count": 104,
      "outputs": []
    },
    {
      "cell_type": "markdown",
      "metadata": {
        "id": "VlquRxow_FoR",
        "colab_type": "text"
      },
      "source": [
        "###### Salmple DataFrame"
      ]
    },
    {
      "cell_type": "code",
      "metadata": {
        "id": "7AHQrzME9W8P",
        "colab_type": "code",
        "colab": {
          "base_uri": "https://localhost:8080/",
          "height": 391
        },
        "outputId": "3674878b-9425-47b6-d5ea-7e7c52e4a1aa"
      },
      "source": [
        "import pandas as pd\n",
        "#creating the test data\n",
        "df = pd.DataFrame({'date1': ['2015/12/27','2015-01-28', '2015-12-29','2018-5-30','2017-1-1','Mar/12/2025'], \n",
        "                   'date2': ['2016/10/2','2010-01-08', '2018-12-29','2018-5-Jan','2017-11-10','03/10/2025'],\n",
        "                   'date3': ['2014/12/21','2012-11-18', '2017-1-29','2018-5-09','2017-9-1','08/10/2025'],\n",
        "                   'Names': ['a','b','c','d','e','f'],\n",
        "                   'Number': [21,22,23,24,25,26]})\n",
        "print(df.info())\n",
        "print(\"\\n\")\n",
        "print(df)"
      ],
      "execution_count": 109,
      "outputs": [
        {
          "output_type": "stream",
          "text": [
            "<class 'pandas.core.frame.DataFrame'>\n",
            "RangeIndex: 6 entries, 0 to 5\n",
            "Data columns (total 5 columns):\n",
            " #   Column  Non-Null Count  Dtype \n",
            "---  ------  --------------  ----- \n",
            " 0   date1   6 non-null      object\n",
            " 1   date2   6 non-null      object\n",
            " 2   date3   6 non-null      object\n",
            " 3   Names   6 non-null      object\n",
            " 4   Number  6 non-null      int64 \n",
            "dtypes: int64(1), object(4)\n",
            "memory usage: 368.0+ bytes\n",
            "None\n",
            "\n",
            "\n",
            "         date1       date2       date3 Names  Number\n",
            "0   2015/12/27   2016/10/2  2014/12/21     a      21\n",
            "1   2015-01-28  2010-01-08  2012-11-18     b      22\n",
            "2   2015-12-29  2018-12-29   2017-1-29     c      23\n",
            "3    2018-5-30  2018-5-Jan   2018-5-09     d      24\n",
            "4     2017-1-1  2017-11-10    2017-9-1     e      25\n",
            "5  Mar/12/2025  03/10/2025  08/10/2025     f      26\n"
          ],
          "name": "stdout"
        }
      ]
    },
    {
      "cell_type": "markdown",
      "metadata": {
        "id": "rG6SkCpIBxEf",
        "colab_type": "text"
      },
      "source": [
        "We can see date1, date2 and date3 dtype are as objects\n",
        "\n",
        "###### Now, Let's run over function"
      ]
    },
    {
      "cell_type": "code",
      "metadata": {
        "id": "5GhDn4nT9jwO",
        "colab_type": "code",
        "colab": {
          "base_uri": "https://localhost:8080/",
          "height": 490
        },
        "outputId": "aef9e80b-9373-4671-8024-55d113bafc6d"
      },
      "source": [
        "print(Date_Filter(df).info(), '\\n')\n",
        "Date_Filter(df)\n"
      ],
      "execution_count": 113,
      "outputs": [
        {
          "output_type": "stream",
          "text": [
            "<class 'pandas.core.frame.DataFrame'>\n",
            "RangeIndex: 6 entries, 0 to 5\n",
            "Data columns (total 6 columns):\n",
            " #   Column      Non-Null Count  Dtype          \n",
            "---  ------      --------------  -----          \n",
            " 0   date1       6 non-null      datetime64[ns] \n",
            " 1   date2       6 non-null      datetime64[ns] \n",
            " 2   date3       6 non-null      datetime64[ns] \n",
            " 3   date1date2  6 non-null      timedelta64[ns]\n",
            " 4   date1date3  6 non-null      timedelta64[ns]\n",
            " 5   date2date3  6 non-null      timedelta64[ns]\n",
            "dtypes: datetime64[ns](3), timedelta64[ns](3)\n",
            "memory usage: 416.0 bytes\n",
            "None \n",
            "\n"
          ],
          "name": "stdout"
        },
        {
          "output_type": "execute_result",
          "data": {
            "text/html": [
              "<div>\n",
              "<style scoped>\n",
              "    .dataframe tbody tr th:only-of-type {\n",
              "        vertical-align: middle;\n",
              "    }\n",
              "\n",
              "    .dataframe tbody tr th {\n",
              "        vertical-align: top;\n",
              "    }\n",
              "\n",
              "    .dataframe thead th {\n",
              "        text-align: right;\n",
              "    }\n",
              "</style>\n",
              "<table border=\"1\" class=\"dataframe\">\n",
              "  <thead>\n",
              "    <tr style=\"text-align: right;\">\n",
              "      <th></th>\n",
              "      <th>date1</th>\n",
              "      <th>date2</th>\n",
              "      <th>date3</th>\n",
              "      <th>date1date2</th>\n",
              "      <th>date1date3</th>\n",
              "      <th>date2date3</th>\n",
              "    </tr>\n",
              "  </thead>\n",
              "  <tbody>\n",
              "    <tr>\n",
              "      <th>0</th>\n",
              "      <td>2015-12-27</td>\n",
              "      <td>2016-10-02</td>\n",
              "      <td>2014-12-21</td>\n",
              "      <td>280 days</td>\n",
              "      <td>371 days</td>\n",
              "      <td>651 days</td>\n",
              "    </tr>\n",
              "    <tr>\n",
              "      <th>1</th>\n",
              "      <td>2015-01-28</td>\n",
              "      <td>2010-01-08</td>\n",
              "      <td>2012-11-18</td>\n",
              "      <td>1846 days</td>\n",
              "      <td>801 days</td>\n",
              "      <td>1045 days</td>\n",
              "    </tr>\n",
              "    <tr>\n",
              "      <th>2</th>\n",
              "      <td>2015-12-29</td>\n",
              "      <td>2018-12-29</td>\n",
              "      <td>2017-01-29</td>\n",
              "      <td>1096 days</td>\n",
              "      <td>397 days</td>\n",
              "      <td>699 days</td>\n",
              "    </tr>\n",
              "    <tr>\n",
              "      <th>3</th>\n",
              "      <td>2018-05-30</td>\n",
              "      <td>2018-01-05</td>\n",
              "      <td>2018-05-09</td>\n",
              "      <td>145 days</td>\n",
              "      <td>21 days</td>\n",
              "      <td>124 days</td>\n",
              "    </tr>\n",
              "    <tr>\n",
              "      <th>4</th>\n",
              "      <td>2017-01-01</td>\n",
              "      <td>2017-11-10</td>\n",
              "      <td>2017-09-01</td>\n",
              "      <td>313 days</td>\n",
              "      <td>243 days</td>\n",
              "      <td>70 days</td>\n",
              "    </tr>\n",
              "    <tr>\n",
              "      <th>5</th>\n",
              "      <td>2025-03-12</td>\n",
              "      <td>2025-03-10</td>\n",
              "      <td>2025-08-10</td>\n",
              "      <td>2 days</td>\n",
              "      <td>151 days</td>\n",
              "      <td>153 days</td>\n",
              "    </tr>\n",
              "  </tbody>\n",
              "</table>\n",
              "</div>"
            ],
            "text/plain": [
              "       date1      date2      date3 date1date2 date1date3 date2date3\n",
              "0 2015-12-27 2016-10-02 2014-12-21   280 days   371 days   651 days\n",
              "1 2015-01-28 2010-01-08 2012-11-18  1846 days   801 days  1045 days\n",
              "2 2015-12-29 2018-12-29 2017-01-29  1096 days   397 days   699 days\n",
              "3 2018-05-30 2018-01-05 2018-05-09   145 days    21 days   124 days\n",
              "4 2017-01-01 2017-11-10 2017-09-01   313 days   243 days    70 days\n",
              "5 2025-03-12 2025-03-10 2025-08-10     2 days   151 days   153 days"
            ]
          },
          "metadata": {
            "tags": []
          },
          "execution_count": 113
        }
      ]
    },
    {
      "cell_type": "markdown",
      "metadata": {
        "id": "76evs5E1CvaL",
        "colab_type": "text"
      },
      "source": [
        "### We have have our output table nake as new"
      ]
    },
    {
      "cell_type": "code",
      "metadata": {
        "id": "rvHjbzXthSj1",
        "colab_type": "code",
        "colab": {
          "base_uri": "https://localhost:8080/",
          "height": 204
        },
        "outputId": "a7080e9f-9f10-44ac-dba4-47fadccce57d"
      },
      "source": [
        "\n",
        "new.head()"
      ],
      "execution_count": 114,
      "outputs": [
        {
          "output_type": "execute_result",
          "data": {
            "text/html": [
              "<div>\n",
              "<style scoped>\n",
              "    .dataframe tbody tr th:only-of-type {\n",
              "        vertical-align: middle;\n",
              "    }\n",
              "\n",
              "    .dataframe tbody tr th {\n",
              "        vertical-align: top;\n",
              "    }\n",
              "\n",
              "    .dataframe thead th {\n",
              "        text-align: right;\n",
              "    }\n",
              "</style>\n",
              "<table border=\"1\" class=\"dataframe\">\n",
              "  <thead>\n",
              "    <tr style=\"text-align: right;\">\n",
              "      <th></th>\n",
              "      <th>date1</th>\n",
              "      <th>date2</th>\n",
              "      <th>date3</th>\n",
              "      <th>date1date2</th>\n",
              "      <th>date1date3</th>\n",
              "      <th>date2date3</th>\n",
              "    </tr>\n",
              "  </thead>\n",
              "  <tbody>\n",
              "    <tr>\n",
              "      <th>0</th>\n",
              "      <td>2015-12-27</td>\n",
              "      <td>2016-10-02</td>\n",
              "      <td>2014-12-21</td>\n",
              "      <td>280 days</td>\n",
              "      <td>371 days</td>\n",
              "      <td>651 days</td>\n",
              "    </tr>\n",
              "    <tr>\n",
              "      <th>1</th>\n",
              "      <td>2015-01-28</td>\n",
              "      <td>2010-01-08</td>\n",
              "      <td>2012-11-18</td>\n",
              "      <td>1846 days</td>\n",
              "      <td>801 days</td>\n",
              "      <td>1045 days</td>\n",
              "    </tr>\n",
              "    <tr>\n",
              "      <th>2</th>\n",
              "      <td>2015-12-29</td>\n",
              "      <td>2018-12-29</td>\n",
              "      <td>2017-01-29</td>\n",
              "      <td>1096 days</td>\n",
              "      <td>397 days</td>\n",
              "      <td>699 days</td>\n",
              "    </tr>\n",
              "    <tr>\n",
              "      <th>3</th>\n",
              "      <td>2018-05-30</td>\n",
              "      <td>2018-01-05</td>\n",
              "      <td>2018-05-09</td>\n",
              "      <td>145 days</td>\n",
              "      <td>21 days</td>\n",
              "      <td>124 days</td>\n",
              "    </tr>\n",
              "    <tr>\n",
              "      <th>4</th>\n",
              "      <td>2017-01-01</td>\n",
              "      <td>2017-11-10</td>\n",
              "      <td>2017-09-01</td>\n",
              "      <td>313 days</td>\n",
              "      <td>243 days</td>\n",
              "      <td>70 days</td>\n",
              "    </tr>\n",
              "  </tbody>\n",
              "</table>\n",
              "</div>"
            ],
            "text/plain": [
              "       date1      date2      date3 date1date2 date1date3 date2date3\n",
              "0 2015-12-27 2016-10-02 2014-12-21   280 days   371 days   651 days\n",
              "1 2015-01-28 2010-01-08 2012-11-18  1846 days   801 days  1045 days\n",
              "2 2015-12-29 2018-12-29 2017-01-29  1096 days   397 days   699 days\n",
              "3 2018-05-30 2018-01-05 2018-05-09   145 days    21 days   124 days\n",
              "4 2017-01-01 2017-11-10 2017-09-01   313 days   243 days    70 days"
            ]
          },
          "metadata": {
            "tags": []
          },
          "execution_count": 114
        }
      ]
    },
    {
      "cell_type": "markdown",
      "metadata": {
        "id": "CsGBYJZZC_sK",
        "colab_type": "text"
      },
      "source": [
        "Note: This function can work on different date formats but can not be used on Invalid entries or it will give error.\n"
      ]
    }
  ]
}